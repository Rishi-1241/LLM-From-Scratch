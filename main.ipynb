{
  "cells": [
    {
      "cell_type": "markdown",
      "metadata": {
        "id": "qPobx6v6Umfn"
      },
      "source": [
        "## Understanding the Transformer Architecture of LLaMA\n",
        "Below is a comparison diagram between the vanilla transformer and LLaMA.\n",
        "\n",
        "<img src=\"https://cdn-images-1.medium.com/max/25620/1*nt-ydHhSVsaLXq_HZRaLQA.png\" alt=\"Difference between Transformers and Llama architecture\" style=\"width: 50%;\">\n",
        "\n"
      ]
    },
    {
      "cell_type": "code",
      "execution_count": 1,
      "metadata": {
        "colab": {
          "base_uri": "https://localhost:8080/"
        },
        "id": "6ph9JJkCUmfp",
        "outputId": "5a78f9b6-6fb3-4035-ec0d-e2948c9d447f"
      },
      "outputs": [
        {
          "output_type": "stream",
          "name": "stdout",
          "text": [
            "Requirement already satisfied: torch in /usr/local/lib/python3.11/dist-packages (2.6.0+cu124)\n",
            "Requirement already satisfied: numpy in /usr/local/lib/python3.11/dist-packages (2.0.2)\n",
            "Requirement already satisfied: matplotlib in /usr/local/lib/python3.11/dist-packages (3.10.0)\n",
            "Requirement already satisfied: pandas in /usr/local/lib/python3.11/dist-packages (2.2.2)\n",
            "Requirement already satisfied: filelock in /usr/local/lib/python3.11/dist-packages (from torch) (3.18.0)\n",
            "Requirement already satisfied: typing-extensions>=4.10.0 in /usr/local/lib/python3.11/dist-packages (from torch) (4.13.0)\n",
            "Requirement already satisfied: networkx in /usr/local/lib/python3.11/dist-packages (from torch) (3.4.2)\n",
            "Requirement already satisfied: jinja2 in /usr/local/lib/python3.11/dist-packages (from torch) (3.1.6)\n",
            "Requirement already satisfied: fsspec in /usr/local/lib/python3.11/dist-packages (from torch) (2025.3.0)\n",
            "Collecting nvidia-cuda-nvrtc-cu12==12.4.127 (from torch)\n",
            "  Downloading nvidia_cuda_nvrtc_cu12-12.4.127-py3-none-manylinux2014_x86_64.whl.metadata (1.5 kB)\n",
            "Collecting nvidia-cuda-runtime-cu12==12.4.127 (from torch)\n",
            "  Downloading nvidia_cuda_runtime_cu12-12.4.127-py3-none-manylinux2014_x86_64.whl.metadata (1.5 kB)\n",
            "Collecting nvidia-cuda-cupti-cu12==12.4.127 (from torch)\n",
            "  Downloading nvidia_cuda_cupti_cu12-12.4.127-py3-none-manylinux2014_x86_64.whl.metadata (1.6 kB)\n",
            "Collecting nvidia-cudnn-cu12==9.1.0.70 (from torch)\n",
            "  Downloading nvidia_cudnn_cu12-9.1.0.70-py3-none-manylinux2014_x86_64.whl.metadata (1.6 kB)\n",
            "Collecting nvidia-cublas-cu12==12.4.5.8 (from torch)\n",
            "  Downloading nvidia_cublas_cu12-12.4.5.8-py3-none-manylinux2014_x86_64.whl.metadata (1.5 kB)\n",
            "Collecting nvidia-cufft-cu12==11.2.1.3 (from torch)\n",
            "  Downloading nvidia_cufft_cu12-11.2.1.3-py3-none-manylinux2014_x86_64.whl.metadata (1.5 kB)\n",
            "Collecting nvidia-curand-cu12==10.3.5.147 (from torch)\n",
            "  Downloading nvidia_curand_cu12-10.3.5.147-py3-none-manylinux2014_x86_64.whl.metadata (1.5 kB)\n",
            "Collecting nvidia-cusolver-cu12==11.6.1.9 (from torch)\n",
            "  Downloading nvidia_cusolver_cu12-11.6.1.9-py3-none-manylinux2014_x86_64.whl.metadata (1.6 kB)\n",
            "Collecting nvidia-cusparse-cu12==12.3.1.170 (from torch)\n",
            "  Downloading nvidia_cusparse_cu12-12.3.1.170-py3-none-manylinux2014_x86_64.whl.metadata (1.6 kB)\n",
            "Requirement already satisfied: nvidia-cusparselt-cu12==0.6.2 in /usr/local/lib/python3.11/dist-packages (from torch) (0.6.2)\n",
            "Requirement already satisfied: nvidia-nccl-cu12==2.21.5 in /usr/local/lib/python3.11/dist-packages (from torch) (2.21.5)\n",
            "Requirement already satisfied: nvidia-nvtx-cu12==12.4.127 in /usr/local/lib/python3.11/dist-packages (from torch) (12.4.127)\n",
            "Collecting nvidia-nvjitlink-cu12==12.4.127 (from torch)\n",
            "  Downloading nvidia_nvjitlink_cu12-12.4.127-py3-none-manylinux2014_x86_64.whl.metadata (1.5 kB)\n",
            "Requirement already satisfied: triton==3.2.0 in /usr/local/lib/python3.11/dist-packages (from torch) (3.2.0)\n",
            "Requirement already satisfied: sympy==1.13.1 in /usr/local/lib/python3.11/dist-packages (from torch) (1.13.1)\n",
            "Requirement already satisfied: mpmath<1.4,>=1.1.0 in /usr/local/lib/python3.11/dist-packages (from sympy==1.13.1->torch) (1.3.0)\n",
            "Requirement already satisfied: contourpy>=1.0.1 in /usr/local/lib/python3.11/dist-packages (from matplotlib) (1.3.1)\n",
            "Requirement already satisfied: cycler>=0.10 in /usr/local/lib/python3.11/dist-packages (from matplotlib) (0.12.1)\n",
            "Requirement already satisfied: fonttools>=4.22.0 in /usr/local/lib/python3.11/dist-packages (from matplotlib) (4.56.0)\n",
            "Requirement already satisfied: kiwisolver>=1.3.1 in /usr/local/lib/python3.11/dist-packages (from matplotlib) (1.4.8)\n",
            "Requirement already satisfied: packaging>=20.0 in /usr/local/lib/python3.11/dist-packages (from matplotlib) (24.2)\n",
            "Requirement already satisfied: pillow>=8 in /usr/local/lib/python3.11/dist-packages (from matplotlib) (11.1.0)\n",
            "Requirement already satisfied: pyparsing>=2.3.1 in /usr/local/lib/python3.11/dist-packages (from matplotlib) (3.2.3)\n",
            "Requirement already satisfied: python-dateutil>=2.7 in /usr/local/lib/python3.11/dist-packages (from matplotlib) (2.8.2)\n",
            "Requirement already satisfied: pytz>=2020.1 in /usr/local/lib/python3.11/dist-packages (from pandas) (2025.2)\n",
            "Requirement already satisfied: tzdata>=2022.7 in /usr/local/lib/python3.11/dist-packages (from pandas) (2025.2)\n",
            "Requirement already satisfied: six>=1.5 in /usr/local/lib/python3.11/dist-packages (from python-dateutil>=2.7->matplotlib) (1.17.0)\n",
            "Requirement already satisfied: MarkupSafe>=2.0 in /usr/local/lib/python3.11/dist-packages (from jinja2->torch) (3.0.2)\n",
            "Downloading nvidia_cublas_cu12-12.4.5.8-py3-none-manylinux2014_x86_64.whl (363.4 MB)\n",
            "\u001b[2K   \u001b[90m━━━━━━━━━━━━━━━━━━━━━━━━━━━━━━━━━━━━━━━━\u001b[0m \u001b[32m363.4/363.4 MB\u001b[0m \u001b[31m2.6 MB/s\u001b[0m eta \u001b[36m0:00:00\u001b[0m\n",
            "\u001b[?25hDownloading nvidia_cuda_cupti_cu12-12.4.127-py3-none-manylinux2014_x86_64.whl (13.8 MB)\n",
            "\u001b[2K   \u001b[90m━━━━━━━━━━━━━━━━━━━━━━━━━━━━━━━━━━━━━━━━\u001b[0m \u001b[32m13.8/13.8 MB\u001b[0m \u001b[31m33.7 MB/s\u001b[0m eta \u001b[36m0:00:00\u001b[0m\n",
            "\u001b[?25hDownloading nvidia_cuda_nvrtc_cu12-12.4.127-py3-none-manylinux2014_x86_64.whl (24.6 MB)\n",
            "\u001b[2K   \u001b[90m━━━━━━━━━━━━━━━━━━━━━━━━━━━━━━━━━━━━━━━━\u001b[0m \u001b[32m24.6/24.6 MB\u001b[0m \u001b[31m25.5 MB/s\u001b[0m eta \u001b[36m0:00:00\u001b[0m\n",
            "\u001b[?25hDownloading nvidia_cuda_runtime_cu12-12.4.127-py3-none-manylinux2014_x86_64.whl (883 kB)\n",
            "\u001b[2K   \u001b[90m━━━━━━━━━━━━━━━━━━━━━━━━━━━━━━━━━━━━━━━━\u001b[0m \u001b[32m883.7/883.7 kB\u001b[0m \u001b[31m30.4 MB/s\u001b[0m eta \u001b[36m0:00:00\u001b[0m\n",
            "\u001b[?25hDownloading nvidia_cudnn_cu12-9.1.0.70-py3-none-manylinux2014_x86_64.whl (664.8 MB)\n",
            "\u001b[2K   \u001b[90m━━━━━━━━━━━━━━━━━━━━━━━━━━━━━━━━━━━━━━━━\u001b[0m \u001b[32m664.8/664.8 MB\u001b[0m \u001b[31m2.9 MB/s\u001b[0m eta \u001b[36m0:00:00\u001b[0m\n",
            "\u001b[?25hDownloading nvidia_cufft_cu12-11.2.1.3-py3-none-manylinux2014_x86_64.whl (211.5 MB)\n",
            "\u001b[2K   \u001b[90m━━━━━━━━━━━━━━━━━━━━━━━━━━━━━━━━━━━━━━━━\u001b[0m \u001b[32m211.5/211.5 MB\u001b[0m \u001b[31m5.2 MB/s\u001b[0m eta \u001b[36m0:00:00\u001b[0m\n",
            "\u001b[?25hDownloading nvidia_curand_cu12-10.3.5.147-py3-none-manylinux2014_x86_64.whl (56.3 MB)\n",
            "\u001b[2K   \u001b[90m━━━━━━━━━━━━━━━━━━━━━━━━━━━━━━━━━━━━━━━━\u001b[0m \u001b[32m56.3/56.3 MB\u001b[0m \u001b[31m11.4 MB/s\u001b[0m eta \u001b[36m0:00:00\u001b[0m\n",
            "\u001b[?25hDownloading nvidia_cusolver_cu12-11.6.1.9-py3-none-manylinux2014_x86_64.whl (127.9 MB)\n",
            "\u001b[2K   \u001b[90m━━━━━━━━━━━━━━━━━━━━━━━━━━━━━━━━━━━━━━━━\u001b[0m \u001b[32m127.9/127.9 MB\u001b[0m \u001b[31m7.4 MB/s\u001b[0m eta \u001b[36m0:00:00\u001b[0m\n",
            "\u001b[?25hDownloading nvidia_cusparse_cu12-12.3.1.170-py3-none-manylinux2014_x86_64.whl (207.5 MB)\n",
            "\u001b[2K   \u001b[90m━━━━━━━━━━━━━━━━━━━━━━━━━━━━━━━━━━━━━━━━\u001b[0m \u001b[32m207.5/207.5 MB\u001b[0m \u001b[31m6.1 MB/s\u001b[0m eta \u001b[36m0:00:00\u001b[0m\n",
            "\u001b[?25hDownloading nvidia_nvjitlink_cu12-12.4.127-py3-none-manylinux2014_x86_64.whl (21.1 MB)\n",
            "\u001b[2K   \u001b[90m━━━━━━━━━━━━━━━━━━━━━━━━━━━━━━━━━━━━━━━━\u001b[0m \u001b[32m21.1/21.1 MB\u001b[0m \u001b[31m76.1 MB/s\u001b[0m eta \u001b[36m0:00:00\u001b[0m\n",
            "\u001b[?25hInstalling collected packages: nvidia-nvjitlink-cu12, nvidia-curand-cu12, nvidia-cufft-cu12, nvidia-cuda-runtime-cu12, nvidia-cuda-nvrtc-cu12, nvidia-cuda-cupti-cu12, nvidia-cublas-cu12, nvidia-cusparse-cu12, nvidia-cudnn-cu12, nvidia-cusolver-cu12\n",
            "  Attempting uninstall: nvidia-nvjitlink-cu12\n",
            "    Found existing installation: nvidia-nvjitlink-cu12 12.5.82\n",
            "    Uninstalling nvidia-nvjitlink-cu12-12.5.82:\n",
            "      Successfully uninstalled nvidia-nvjitlink-cu12-12.5.82\n",
            "  Attempting uninstall: nvidia-curand-cu12\n",
            "    Found existing installation: nvidia-curand-cu12 10.3.6.82\n",
            "    Uninstalling nvidia-curand-cu12-10.3.6.82:\n",
            "      Successfully uninstalled nvidia-curand-cu12-10.3.6.82\n",
            "  Attempting uninstall: nvidia-cufft-cu12\n",
            "    Found existing installation: nvidia-cufft-cu12 11.2.3.61\n",
            "    Uninstalling nvidia-cufft-cu12-11.2.3.61:\n",
            "      Successfully uninstalled nvidia-cufft-cu12-11.2.3.61\n",
            "  Attempting uninstall: nvidia-cuda-runtime-cu12\n",
            "    Found existing installation: nvidia-cuda-runtime-cu12 12.5.82\n",
            "    Uninstalling nvidia-cuda-runtime-cu12-12.5.82:\n",
            "      Successfully uninstalled nvidia-cuda-runtime-cu12-12.5.82\n",
            "  Attempting uninstall: nvidia-cuda-nvrtc-cu12\n",
            "    Found existing installation: nvidia-cuda-nvrtc-cu12 12.5.82\n",
            "    Uninstalling nvidia-cuda-nvrtc-cu12-12.5.82:\n",
            "      Successfully uninstalled nvidia-cuda-nvrtc-cu12-12.5.82\n",
            "  Attempting uninstall: nvidia-cuda-cupti-cu12\n",
            "    Found existing installation: nvidia-cuda-cupti-cu12 12.5.82\n",
            "    Uninstalling nvidia-cuda-cupti-cu12-12.5.82:\n",
            "      Successfully uninstalled nvidia-cuda-cupti-cu12-12.5.82\n",
            "  Attempting uninstall: nvidia-cublas-cu12\n",
            "    Found existing installation: nvidia-cublas-cu12 12.5.3.2\n",
            "    Uninstalling nvidia-cublas-cu12-12.5.3.2:\n",
            "      Successfully uninstalled nvidia-cublas-cu12-12.5.3.2\n",
            "  Attempting uninstall: nvidia-cusparse-cu12\n",
            "    Found existing installation: nvidia-cusparse-cu12 12.5.1.3\n",
            "    Uninstalling nvidia-cusparse-cu12-12.5.1.3:\n",
            "      Successfully uninstalled nvidia-cusparse-cu12-12.5.1.3\n",
            "  Attempting uninstall: nvidia-cudnn-cu12\n",
            "    Found existing installation: nvidia-cudnn-cu12 9.3.0.75\n",
            "    Uninstalling nvidia-cudnn-cu12-9.3.0.75:\n",
            "      Successfully uninstalled nvidia-cudnn-cu12-9.3.0.75\n",
            "  Attempting uninstall: nvidia-cusolver-cu12\n",
            "    Found existing installation: nvidia-cusolver-cu12 11.6.3.83\n",
            "    Uninstalling nvidia-cusolver-cu12-11.6.3.83:\n",
            "      Successfully uninstalled nvidia-cusolver-cu12-11.6.3.83\n",
            "Successfully installed nvidia-cublas-cu12-12.4.5.8 nvidia-cuda-cupti-cu12-12.4.127 nvidia-cuda-nvrtc-cu12-12.4.127 nvidia-cuda-runtime-cu12-12.4.127 nvidia-cudnn-cu12-9.1.0.70 nvidia-cufft-cu12-11.2.1.3 nvidia-curand-cu12-10.3.5.147 nvidia-cusolver-cu12-11.6.1.9 nvidia-cusparse-cu12-12.3.1.170 nvidia-nvjitlink-cu12-12.4.127\n"
          ]
        }
      ],
      "source": [
        "!pip install torch numpy matplotlib pandas"
      ]
    },
    {
      "cell_type": "code",
      "execution_count": 2,
      "metadata": {
        "colab": {
          "base_uri": "https://localhost:8080/"
        },
        "id": "6g-HOXq7Umfq",
        "outputId": "21e95107-7056-414e-e065-360b39fe2f92"
      },
      "outputs": [
        {
          "output_type": "stream",
          "name": "stdout",
          "text": [
            "Requirement already satisfied: torch in /usr/local/lib/python3.11/dist-packages (2.6.0+cu124)\n",
            "Requirement already satisfied: filelock in /usr/local/lib/python3.11/dist-packages (from torch) (3.18.0)\n",
            "Requirement already satisfied: typing-extensions>=4.10.0 in /usr/local/lib/python3.11/dist-packages (from torch) (4.13.0)\n",
            "Requirement already satisfied: networkx in /usr/local/lib/python3.11/dist-packages (from torch) (3.4.2)\n",
            "Requirement already satisfied: jinja2 in /usr/local/lib/python3.11/dist-packages (from torch) (3.1.6)\n",
            "Requirement already satisfied: fsspec in /usr/local/lib/python3.11/dist-packages (from torch) (2025.3.0)\n",
            "Requirement already satisfied: nvidia-cuda-nvrtc-cu12==12.4.127 in /usr/local/lib/python3.11/dist-packages (from torch) (12.4.127)\n",
            "Requirement already satisfied: nvidia-cuda-runtime-cu12==12.4.127 in /usr/local/lib/python3.11/dist-packages (from torch) (12.4.127)\n",
            "Requirement already satisfied: nvidia-cuda-cupti-cu12==12.4.127 in /usr/local/lib/python3.11/dist-packages (from torch) (12.4.127)\n",
            "Requirement already satisfied: nvidia-cudnn-cu12==9.1.0.70 in /usr/local/lib/python3.11/dist-packages (from torch) (9.1.0.70)\n",
            "Requirement already satisfied: nvidia-cublas-cu12==12.4.5.8 in /usr/local/lib/python3.11/dist-packages (from torch) (12.4.5.8)\n",
            "Requirement already satisfied: nvidia-cufft-cu12==11.2.1.3 in /usr/local/lib/python3.11/dist-packages (from torch) (11.2.1.3)\n",
            "Requirement already satisfied: nvidia-curand-cu12==10.3.5.147 in /usr/local/lib/python3.11/dist-packages (from torch) (10.3.5.147)\n",
            "Requirement already satisfied: nvidia-cusolver-cu12==11.6.1.9 in /usr/local/lib/python3.11/dist-packages (from torch) (11.6.1.9)\n",
            "Requirement already satisfied: nvidia-cusparse-cu12==12.3.1.170 in /usr/local/lib/python3.11/dist-packages (from torch) (12.3.1.170)\n",
            "Requirement already satisfied: nvidia-cusparselt-cu12==0.6.2 in /usr/local/lib/python3.11/dist-packages (from torch) (0.6.2)\n",
            "Requirement already satisfied: nvidia-nccl-cu12==2.21.5 in /usr/local/lib/python3.11/dist-packages (from torch) (2.21.5)\n",
            "Requirement already satisfied: nvidia-nvtx-cu12==12.4.127 in /usr/local/lib/python3.11/dist-packages (from torch) (12.4.127)\n",
            "Requirement already satisfied: nvidia-nvjitlink-cu12==12.4.127 in /usr/local/lib/python3.11/dist-packages (from torch) (12.4.127)\n",
            "Requirement already satisfied: triton==3.2.0 in /usr/local/lib/python3.11/dist-packages (from torch) (3.2.0)\n",
            "Requirement already satisfied: sympy==1.13.1 in /usr/local/lib/python3.11/dist-packages (from torch) (1.13.1)\n",
            "Requirement already satisfied: mpmath<1.4,>=1.1.0 in /usr/local/lib/python3.11/dist-packages (from sympy==1.13.1->torch) (1.3.0)\n",
            "Requirement already satisfied: MarkupSafe>=2.0 in /usr/local/lib/python3.11/dist-packages (from jinja2->torch) (3.0.2)\n"
          ]
        }
      ],
      "source": [
        "!pip install --upgrade torch\n"
      ]
    },
    {
      "cell_type": "code",
      "execution_count": 2,
      "metadata": {
        "id": "OIo9vdKFUmfq"
      },
      "outputs": [],
      "source": [
        "# PyTorch for implementing LLM (No GPU)\n",
        "import torch\n",
        "\n",
        "# Neural network modules and functions from PyTorch\n",
        "from torch import nn\n",
        "from torch.nn import functional as F\n",
        "\n",
        "# NumPy for numerical operations\n",
        "import numpy as np\n",
        "\n",
        "# Matplotlib for plotting Loss etc.\n",
        "from matplotlib import pyplot as plt\n",
        "\n",
        "# Time module for tracking execution time\n",
        "import time\n",
        "\n",
        "# Pandas for data manipulation and analysis\n",
        "import pandas as pd\n",
        "\n",
        "# urllib for handling URL requests (Downloading Dataset)\n",
        "import urllib.request"
      ]
    },
    {
      "cell_type": "code",
      "execution_count": 3,
      "metadata": {
        "id": "vC3yvDetUmfr"
      },
      "outputs": [],
      "source": [
        "# Configuration object for model parameters\n",
        "MASTER_CONFIG = {\n",
        "    # Adding parameters later\n",
        "}"
      ]
    },
    {
      "cell_type": "markdown",
      "metadata": {
        "id": "lrdnCSXpUmfr"
      },
      "source": [
        "## Data Preprocessing\n",
        "\n",
        "In the original LLaMA paper, diverse open-source datasets were employed to train and evaluate the model.\n",
        "\n",
        "<img src=\"https://cdn-images-1.medium.com/max/2304/1*vcZOIbZVutELPXNrtAVSdg.png\" alt=\"LLaMA Open and Efficient Foundation Language Models\" width=\"50%\">\n"
      ]
    },
    {
      "cell_type": "code",
      "execution_count": 4,
      "metadata": {
        "colab": {
          "base_uri": "https://localhost:8080/"
        },
        "id": "i71Ryu6lUmfr",
        "outputId": "4ab4cfbc-eaed-4152-89c7-e89a6363e072"
      },
      "outputs": [
        {
          "output_type": "execute_result",
          "data": {
            "text/plain": [
              "('tinyshakespeare.txt', <http.client.HTTPMessage at 0x7f2d11e927d0>)"
            ]
          },
          "metadata": {},
          "execution_count": 4
        }
      ],
      "source": [
        "# The URL of the raw text file on GitHub\n",
        "url = \"https://raw.githubusercontent.com/karpathy/char-rnn/master/data/tinyshakespeare/input.txt\"\n",
        "\n",
        "# The file name for local storage\n",
        "file_name = \"tinyshakespeare.txt\"\n",
        "\n",
        "# Execute the download\n",
        "urllib.request.urlretrieve(url, file_name)"
      ]
    },
    {
      "cell_type": "code",
      "execution_count": 5,
      "metadata": {
        "colab": {
          "base_uri": "https://localhost:8080/"
        },
        "id": "nDsc_egAUmfs",
        "outputId": "c8a60fbf-2e33-4cb7-f439-bda82c223459"
      },
      "outputs": [
        {
          "output_type": "stream",
          "name": "stdout",
          "text": [
            "Printing the first 10 characters of the vocab list: ['\\n', ' ', '!', '$', '&', \"'\", ',', '-', '.', '3']\n",
            "Total number of characters in our dataset (Vocabulary Size): 65\n"
          ]
        }
      ],
      "source": [
        "# Read the content of the dataset\n",
        "lines = open(\"tinyshakespeare.txt\", 'r').read()\n",
        "\n",
        "# Create a sorted list of unique characters in the dataset\n",
        "vocab = sorted(list(set(lines)))\n",
        "\n",
        "# Display the first 10 characters in the vocabulary list\n",
        "print('Printing the first 10 characters of the vocab list:', vocab[:10])\n",
        "\n",
        "# Output the total number of characters in our dataset (Vocabulary Size)\n",
        "print('Total number of characters in our dataset (Vocabulary Size):', len(vocab))"
      ]
    },
    {
      "cell_type": "markdown",
      "metadata": {
        "id": "Dvs6fERnUmfs"
      },
      "source": [
        "Now, we’re creating mappings between integers to characters (**itos**) and characters to integers (**stoi**)"
      ]
    },
    {
      "cell_type": "code",
      "execution_count": 6,
      "metadata": {
        "id": "p8ntUygoUmft"
      },
      "outputs": [],
      "source": [
        "# Mapping integers to characters (itos)\n",
        "itos = {i: ch for i, ch in enumerate(vocab)}\n",
        "\n",
        "# Mapping characters to integers (stoi)\n",
        "stoi = {ch: i for i, ch in enumerate(vocab)}"
      ]
    },
    {
      "cell_type": "code",
      "execution_count": 7,
      "metadata": {
        "colab": {
          "base_uri": "https://localhost:8080/",
          "height": 36
        },
        "id": "kfOK2EAhUmfu",
        "outputId": "5693ca3b-7943-4e1e-c9f0-9e73c5f8b4ba"
      },
      "outputs": [
        {
          "output_type": "execute_result",
          "data": {
            "text/plain": [
              "'morning'"
            ],
            "application/vnd.google.colaboratory.intrinsic+json": {
              "type": "string"
            }
          },
          "metadata": {},
          "execution_count": 7
        }
      ],
      "source": [
        "# Encode function: Converts a string to a list of integers using the mapping stoi\n",
        "def encode(s):\n",
        "    return [stoi[ch] for ch in s]\n",
        "\n",
        "# Decode function: Converts a list of integers back to a string using the mapping itos\n",
        "def decode(l):\n",
        "    return ''.join([itos[i] for i in l])\n",
        "\n",
        "# Example: Encode the string \"hello\" and then decode the result\n",
        "decode(encode(\"morning\"))"
      ]
    },
    {
      "cell_type": "markdown",
      "metadata": {
        "id": "1TTaT0UnUmfu"
      },
      "source": [
        "The final line will output `morning` confirms the proper functionality of the encode and decode functions.\n",
        "\n",
        "We are now converting our dataset into a torch tensor, specifying its data type for further operations using **PyTorch**:"
      ]
    },
    {
      "cell_type": "code",
      "execution_count": 8,
      "metadata": {
        "colab": {
          "base_uri": "https://localhost:8080/"
        },
        "id": "tvnNANYnUmfu",
        "outputId": "6214ed3b-5e4f-4aff-d251-f1f2d0cb0db1"
      },
      "outputs": [
        {
          "output_type": "stream",
          "name": "stdout",
          "text": [
            "torch.Size([1115394])\n"
          ]
        }
      ],
      "source": [
        "# Convert the dataset into a torch tensor with specified data type (dtype)\n",
        "dataset = torch.tensor(encode(lines), dtype=torch.int8)\n",
        "\n",
        "# adding the vocab size\n",
        "MASTER_CONFIG = {\n",
        "    \"vocab_size\": len(vocab),\n",
        "}\n",
        "\n",
        "# Display the shape of the resulting tensor\n",
        "print(dataset.shape)"
      ]
    },
    {
      "cell_type": "markdown",
      "metadata": {
        "id": "ZOAahVZnUmfu"
      },
      "source": [
        "The output is `torch.Size([1115394])` indicates that our dataset contains approximately **one million tokens**. It's worth noting that this is significantly smaller than the LLaMA dataset, which consists of **1.4 trillion tokens**."
      ]
    },
    {
      "cell_type": "code",
      "execution_count": 9,
      "metadata": {
        "id": "w7ql81HcUmfv"
      },
      "outputs": [],
      "source": [
        "# Function to get batches for training, validation, or testing\n",
        "def get_batches(data, split, batch_size, context_window, config=MASTER_CONFIG):\n",
        "    # Split the dataset into training, validation, and test sets\n",
        "    train = data[:int(.8 * len(data))]\n",
        "    val = data[int(.8 * len(data)): int(.9 * len(data))]\n",
        "    test = data[int(.9 * len(data)):]\n",
        "\n",
        "    # Determine which split to use\n",
        "    batch_data = train\n",
        "    if split == 'val':\n",
        "        batch_data = val\n",
        "    if split == 'test':\n",
        "        batch_data = test\n",
        "\n",
        "    # Pick random starting points within the data\n",
        "    ix = torch.randint(0, batch_data.size(0) - context_window - 1, (batch_size,))\n",
        "\n",
        "    # Create input sequences (x) and corresponding target sequences (y)\n",
        "    x = torch.stack([batch_data[i:i+context_window] for i in ix]).long()\n",
        "    y = torch.stack([batch_data[i+1:i+context_window+1] for i in ix]).long()\n",
        "\n",
        "    return x, y"
      ]
    },
    {
      "cell_type": "markdown",
      "metadata": {
        "id": "WcmyxaJIUmfv"
      },
      "source": [
        "Now that our splitting function is defined, let’s establish two parameters crucial for this process:"
      ]
    },
    {
      "cell_type": "code",
      "execution_count": 10,
      "metadata": {
        "id": "YID7wb6wUmfv"
      },
      "outputs": [],
      "source": [
        "# Update the MASTER_CONFIG with batch_size and context_window parameters\n",
        "MASTER_CONFIG.update({\n",
        "    'batch_size': 8,          # Number of batches to be processed at each random split\n",
        "    'context_window': 16      # Number of characters in each input (x) and target (y) sequence of each batch\n",
        "})"
      ]
    },
    {
      "cell_type": "markdown",
      "metadata": {
        "id": "6fqnmJzyUmfw"
      },
      "source": [
        "batch_size determines how many batches are processed at each random split, while context_window specifies the number of characters in each input (x) and target (y) sequence of each batch.\n",
        "\n",
        "Let’s print a random sample from the train split of batch 8 and context window 16 from our dataset:"
      ]
    },
    {
      "cell_type": "code",
      "execution_count": 11,
      "metadata": {
        "colab": {
          "base_uri": "https://localhost:8080/"
        },
        "id": "reF-hb04Umfw",
        "outputId": "ad7618e3-1e14-4735-8984-4a0f0b650c0c"
      },
      "outputs": [
        {
          "output_type": "stream",
          "name": "stdout",
          "text": [
            "[('r grace\\nThe seal', ' grace\\nThe seal '), (\"overn'd isle.\\n\\nG\", \"vern'd isle.\\n\\nGL\"), (',\\nOur treasures ', '\\nOur treasures s'), ('dam:\\nThe one I h', 'am:\\nThe one I ha'), ('d be thus afflic', ' be thus afflict'), (', the thorns we ', ' the thorns we s'), ('wo of the house ', 'o of the house o'), (' both his oath a', 'both his oath an')]\n"
          ]
        }
      ],
      "source": [
        "# Obtain batches for training using the specified batch size and context window\n",
        "xs, ys = get_batches(dataset, 'train', MASTER_CONFIG['batch_size'], MASTER_CONFIG['context_window'])\n",
        "\n",
        "# Decode the sequences to obtain the corresponding text representations\n",
        "decoded_samples = [(decode(xs[i].tolist()), decode(ys[i].tolist())) for i in range(len(xs))]\n",
        "\n",
        "# Print the random sample\n",
        "print(decoded_samples)"
      ]
    },
    {
      "cell_type": "code",
      "execution_count": 12,
      "metadata": {
        "id": "Bojk-DqAUmfw"
      },
      "outputs": [],
      "source": [
        "@torch.no_grad()  # Don't compute gradients for this function\n",
        "def evaluate_loss(model, config=MASTER_CONFIG):\n",
        "    # Placeholder for the evaluation results\n",
        "    out = {}\n",
        "\n",
        "    # Set the model to evaluation mode\n",
        "    model.eval()\n",
        "\n",
        "    # Iterate through training and validation splits\n",
        "    for split in [\"train\", \"val\"]:\n",
        "        # Placeholder for individual losses\n",
        "        losses = []\n",
        "\n",
        "        # Generate 10 batches for evaluation\n",
        "        for _ in range(10):\n",
        "            # Get input sequences (xb) and target sequences (yb)\n",
        "            xb, yb = get_batches(dataset, split, config['batch_size'], config['context_window'])\n",
        "\n",
        "            # Perform model inference and calculate the loss\n",
        "            _, loss = model(xb, yb)\n",
        "\n",
        "            # Append the loss to the list\n",
        "            losses.append(loss.item())\n",
        "\n",
        "        # Calculate the mean loss for the split and store it in the output dictionary\n",
        "        out[split] = np.mean(losses)\n",
        "\n",
        "    # Set the model back to training mode\n",
        "    model.train()\n",
        "\n",
        "    return out"
      ]
    },
    {
      "cell_type": "markdown",
      "metadata": {
        "id": "fvRg9pw1Umfw"
      },
      "source": [
        "We have used the **loss** as a metric to assess the performance of the model during training iterations. Our function iterates through the training and validation splits, computes the mean loss over 10 batches for each split, and finally returns the results. The model is then set back to training mode with model.train().\n",
        "\n",
        "## Setting Up a Base Neural Network Model\n",
        "\n",
        "We’re building a basic neural network that we’ll improve later using LLaMA techniques."
      ]
    },
    {
      "cell_type": "code",
      "execution_count": 13,
      "metadata": {
        "id": "tOrHNs5qUmfx"
      },
      "outputs": [],
      "source": [
        "# Definition of a basic neural network class\n",
        "class SimpleBrokenModel(nn.Module):\n",
        "    def __init__(self, config=MASTER_CONFIG):\n",
        "        super().__init__()\n",
        "        self.config = config\n",
        "\n",
        "        # Embedding layer to convert character indices to vectors (vocab size: 65)\n",
        "        self.embedding = nn.Embedding(config['vocab_size'], config['d_model'])\n",
        "\n",
        "        # Linear layers for modeling relationships between features\n",
        "        # (to be updated with SwiGLU activation function as in LLaMA)\n",
        "        self.linear = nn.Sequential(\n",
        "            nn.Linear(config['d_model'], config['d_model']),\n",
        "            nn.ReLU(),  # Currently using ReLU, will be replaced with SwiGLU as in LLaMA\n",
        "            nn.Linear(config['d_model'], config['vocab_size']),\n",
        "        )\n",
        "\n",
        "        # Print the total number of model parameters\n",
        "        print(\"Model parameters:\", sum([m.numel() for m in self.parameters()]))"
      ]
    },
    {
      "cell_type": "markdown",
      "metadata": {
        "id": "rL2tS0q2Umfx"
      },
      "source": [
        "In the current architecture, the embedding layer has a vocabulary size of 65, representing the characters in our dataset. As this serves as our base model, we are using **ReLU **as the activation function in the linear layers; however, this will later be replaced with SwiGLU, as used in LLaMA.\n",
        "\n",
        "To create a forward pass for our base model, we must define a forward function within our NN model."
      ]
    },
    {
      "cell_type": "code",
      "execution_count": 14,
      "metadata": {
        "id": "fuckGNCLUmfx"
      },
      "outputs": [],
      "source": [
        "# Definition of a basic neural network class\n",
        "class SimpleBrokenModel(nn.Module):\n",
        "    def __init__(self, config=MASTER_CONFIG):\n",
        "        super().__init__()\n",
        "        self.config = config\n",
        "\n",
        "        # Embedding layer to convert character indices to vectors (vocab size: 65)\n",
        "        self.embedding = nn.Embedding(config['vocab_size'], config['d_model'])\n",
        "\n",
        "        # Linear layers for modeling relationships between features\n",
        "        # (to be updated with SwiGLU activation function as in LLaMA)\n",
        "        self.linear = nn.Sequential(\n",
        "            nn.Linear(config['d_model'], config['d_model']),\n",
        "            nn.ReLU(),  # Currently using ReLU, will be replaced with SwiGLU as in LLaMA\n",
        "            nn.Linear(config['d_model'], config['vocab_size']),\n",
        "        )\n",
        "\n",
        "        # Print the total number of model parameters\n",
        "        print(\"Model parameters:\", sum([m.numel() for m in self.parameters()]))\n",
        "\n",
        "    # Forward pass function for the base model\n",
        "    def forward(self, idx, targets=None):\n",
        "        # Embedding layer converts character indices to vectors\n",
        "        x = self.embedding(idx)\n",
        "\n",
        "        # Linear layers for modeling relationships between features\n",
        "        a = self.linear(x)\n",
        "\n",
        "        # Apply softmax activation to obtain probability distribution\n",
        "        logits = F.softmax(a, dim=-1)\n",
        "\n",
        "        # If targets are provided, calculate and return the cross-entropy loss\n",
        "        if targets is not None:\n",
        "            # Reshape logits and targets for cross-entropy calculation\n",
        "            loss = F.cross_entropy(logits.view(-1, self.config['vocab_size']), targets.view(-1))\n",
        "            return logits, loss\n",
        "\n",
        "        # If targets are not provided, return the logits\n",
        "        else:\n",
        "            return logits"
      ]
    },
    {
      "cell_type": "markdown",
      "metadata": {
        "id": "69SY5R0sUmfx"
      },
      "source": [
        "This forward pass function takes character indices (idx) as input, applies the embedding layer, passes the result through linear layers, applies a softmax activation to obtain a probability distribution (logits). If targets are provided, it calculates the cross-entropy loss and returns both logits and loss. If targets are not provided, it returns only the logits.\n",
        "\n",
        "To instantiate this model, we can directly invoke the class and print the total number of parameters in our Simple Neural Network Model. We’ve set the dimension of our linear layers to 128, specifying this value in our config object:"
      ]
    },
    {
      "cell_type": "code",
      "execution_count": 15,
      "metadata": {
        "colab": {
          "base_uri": "https://localhost:8080/"
        },
        "id": "UFH4RCAwUmfx",
        "outputId": "94b304ea-9b71-4413-934a-0e2701d28a9b"
      },
      "outputs": [
        {
          "output_type": "stream",
          "name": "stdout",
          "text": [
            "Model parameters: 33217\n",
            "Total number of parameters in the Simple Neural Network Model: 33217\n"
          ]
        }
      ],
      "source": [
        "# Update MASTER_CONFIG with the dimension of linear layers (128)\n",
        "MASTER_CONFIG.update({\n",
        "    'd_model': 128,\n",
        "})\n",
        "\n",
        "# Instantiate the SimpleBrokenModel using the updated MASTER_CONFIG\n",
        "model = SimpleBrokenModel(MASTER_CONFIG)\n",
        "\n",
        "# Print the total number of parameters in the model\n",
        "print(\"Total number of parameters in the Simple Neural Network Model:\", sum([m.numel() for m in model.parameters()]))"
      ]
    },
    {
      "cell_type": "markdown",
      "metadata": {
        "id": "yRYK4NSAUmfy"
      },
      "source": [
        "Our Simple Neural Network Model comprises approximately 33,000 parameters.\n",
        "\n",
        "Similarly, to compute logits and loss, we only need to feed our split dataset into our model:"
      ]
    },
    {
      "cell_type": "code",
      "execution_count": 16,
      "metadata": {
        "id": "E-SvbYOIUmfy"
      },
      "outputs": [],
      "source": [
        "# Obtain batches for training using the specified batch size and context window\n",
        "xs, ys = get_batches(dataset, 'train', MASTER_CONFIG['batch_size'], MASTER_CONFIG['context_window'])\n",
        "\n",
        "# Calculate logits and loss using the model\n",
        "logits, loss = model(xs, ys)"
      ]
    },
    {
      "cell_type": "markdown",
      "metadata": {
        "id": "cHlK2mHdUmfy"
      },
      "source": [
        "To train our base model and note its performance, we need to specify some parameters. We are training for a total of 1000 epochs. Increasing the batch size to 32 from 8, and set the log_interval to 10, indicating that the code will print or log information about the training progress every 10 batches. For optimization, we’ll use the Adam optimizer."
      ]
    },
    {
      "cell_type": "code",
      "execution_count": 17,
      "metadata": {
        "colab": {
          "base_uri": "https://localhost:8080/"
        },
        "id": "_P_wccmfUmfy",
        "outputId": "1a4e3f4a-29bb-40df-9f15-28bf6128fe7c"
      },
      "outputs": [
        {
          "output_type": "stream",
          "name": "stdout",
          "text": [
            "Model parameters: 33217\n"
          ]
        }
      ],
      "source": [
        "# Update MASTER_CONFIG with training parameters\n",
        "MASTER_CONFIG.update({\n",
        "    'epochs': 1000,          # Number of training epochs\n",
        "    'log_interval': 10,      # Log information every 10 batches during training\n",
        "    'batch_size': 32,        # Increase batch size to 32\n",
        "})\n",
        "\n",
        "# Instantiate the SimpleBrokenModel with updated configuration\n",
        "model = SimpleBrokenModel(MASTER_CONFIG)\n",
        "\n",
        "# Define the Adam optimizer for model parameters\n",
        "optimizer = torch.optim.Adam(\n",
        "    model.parameters(),      # Pass the model parameters to the optimizer\n",
        ")"
      ]
    },
    {
      "cell_type": "markdown",
      "metadata": {
        "id": "E_LB-6mFUmfy"
      },
      "source": [
        "Let’s execute the training process and capture the loss from our base model, including the total number of parameters. **Additionally, each line is commented for clarity**:"
      ]
    },
    {
      "cell_type": "code",
      "execution_count": 18,
      "metadata": {
        "colab": {
          "base_uri": "https://localhost:8080/",
          "height": 465
        },
        "id": "OGgRe3r0Umfz",
        "outputId": "be2691b5-adce-4c81-de8f-10749d9d7c4b"
      },
      "outputs": [
        {
          "output_type": "stream",
          "name": "stdout",
          "text": [
            "Validation loss:  3.9427345037460326\n"
          ]
        },
        {
          "output_type": "execute_result",
          "data": {
            "text/plain": [
              "<Axes: >"
            ]
          },
          "metadata": {},
          "execution_count": 18
        },
        {
          "output_type": "display_data",
          "data": {
            "text/plain": [
              "<Figure size 640x480 with 1 Axes>"
            ],
            "image/png": "[encoded data removed]"
          },
          "metadata": {}
        }
      ],
      "source": [
        "# Function to perform training\n",
        "def train(model, optimizer, scheduler=None, config=MASTER_CONFIG, print_logs=False):\n",
        "    # Placeholder for storing losses\n",
        "    losses = []\n",
        "\n",
        "    # Start tracking time\n",
        "    start_time = time.time()\n",
        "\n",
        "    # Iterate through epochs\n",
        "    for epoch in range(config['epochs']):\n",
        "        # Zero out gradients\n",
        "        optimizer.zero_grad()\n",
        "\n",
        "        # Obtain batches for training\n",
        "        xs, ys = get_batches(dataset, 'train', config['batch_size'], config['context_window'])\n",
        "\n",
        "        # Forward pass through the model to calculate logits and loss\n",
        "        logits, loss = model(xs, targets=ys)\n",
        "\n",
        "        # Backward pass and optimization step\n",
        "        loss.backward()\n",
        "        optimizer.step()\n",
        "\n",
        "        # If a learning rate scheduler is provided, adjust the learning rate\n",
        "        if scheduler:\n",
        "            scheduler.step()\n",
        "\n",
        "        # Log progress every specified interval\n",
        "        if epoch % config['log_interval'] == 0:\n",
        "            # Calculate batch time\n",
        "            batch_time = time.time() - start_time\n",
        "\n",
        "            # Evaluate loss on validation set\n",
        "            x = evaluate_loss(model)\n",
        "\n",
        "            # Store the validation loss\n",
        "            losses += [x]\n",
        "\n",
        "            # Print progress logs if specified\n",
        "            if print_logs:\n",
        "                print(f\"Epoch {epoch} | val loss {x['val']:.3f} | Time {batch_time:.3f} | ETA in seconds {batch_time * (config['epochs'] - epoch)/config['log_interval'] :.3f}\")\n",
        "\n",
        "            # Reset the timer\n",
        "            start_time = time.time()\n",
        "\n",
        "            # Print learning rate if a scheduler is provided\n",
        "            if scheduler:\n",
        "                print(\"lr: \", scheduler.get_lr())\n",
        "\n",
        "    # Print the final validation loss\n",
        "    print(\"Validation loss: \", losses[-1]['val'])\n",
        "\n",
        "    # Plot the training and validation loss curves\n",
        "    return pd.DataFrame(losses).plot()\n",
        "\n",
        "# Execute the training process\n",
        "train(model, optimizer)"
      ]
    },
    {
      "cell_type": "markdown",
      "metadata": {
        "id": "A2pmT25_Umfz"
      },
      "source": [
        "The initial cross-entropy loss before training stands at 4.17, and after 1000 epochs, it reduces to 3.93. In this context, cross-entropy reflects the likelihood of selecting the incorrect word.\n",
        "\n",
        "Our model incorporates a softmax layer on the logits, which transforms a vector of numbers into a probability distribution. Let’s use the built-in F.cross_entropy function, we need to directly pass in the unnormalized. Consequently, we will modify our model accordingly."
      ]
    },
    {
      "cell_type": "code",
      "execution_count": 19,
      "metadata": {
        "id": "DjauBLsJUmfz"
      },
      "outputs": [],
      "source": [
        "# Definition of a basic neural network class\n",
        "class SimpleBrokenModel(nn.Module):\n",
        "    def __init__(self, config=MASTER_CONFIG):\n",
        "        super().__init__()\n",
        "        self.config = config\n",
        "\n",
        "        # Embedding layer to convert character indices to vectors (vocab size: 65)\n",
        "        self.embedding = nn.Embedding(config['vocab_size'], config['d_model'])\n",
        "\n",
        "        # Linear layers for modeling relationships between features\n",
        "        # (to be updated with SwiGLU activation function as in LLaMA)\n",
        "        self.linear = nn.Sequential(\n",
        "            nn.Linear(config['d_model'], config['d_model']),\n",
        "            nn.ReLU(),  # Currently using ReLU, will be replaced with SwiGLU as in LLaMA\n",
        "            nn.Linear(config['d_model'], config['vocab_size']),\n",
        "        )\n",
        "\n",
        "        # Print the total number of model parameters\n",
        "        print(\"Model parameters:\", sum([m.numel() for m in self.parameters()]))\n",
        "\n",
        "    # Forward pass function for the base model\n",
        "    def forward(self, idx, targets=None):\n",
        "\n",
        "        # Embedding layer converts character indices to vectors\n",
        "        x = self.embedding(idx)\n",
        "\n",
        "        # Linear layers for modeling relationships between features\n",
        "        logits = self.linear(x)\n",
        "\n",
        "        # If targets are provided, calculate and return the cross-entropy loss\n",
        "        if targets is not None:\n",
        "            # Reshape logits and targets for cross-entropy calculation\n",
        "            loss = F.cross_entropy(logits.view(-1, self.config['vocab_size']), targets.view(-1))\n",
        "            return logits, loss\n",
        "\n",
        "        # If targets are not provided, return the logits\n",
        "        else:\n",
        "            return logits"
      ]
    },
    {
      "cell_type": "markdown",
      "metadata": {
        "id": "d2A8vsfPUmfz"
      },
      "source": [
        "Let’s recreate the updated SimpleModel and train it for 1000 epochs to observe any changes:"
      ]
    },
    {
      "cell_type": "code",
      "execution_count": 20,
      "metadata": {
        "colab": {
          "base_uri": "https://localhost:8080/",
          "height": 482
        },
        "id": "GpveKkqvUmfz",
        "outputId": "e96393b3-b90a-4024-b5e8-2f010bca8e27"
      },
      "outputs": [
        {
          "output_type": "stream",
          "name": "stdout",
          "text": [
            "Model parameters: 33217\n",
            "Validation loss:  2.520594596862793\n"
          ]
        },
        {
          "output_type": "execute_result",
          "data": {
            "text/plain": [
              "<Axes: >"
            ]
          },
          "metadata": {},
          "execution_count": 20
        },
        {
          "output_type": "display_data",
          "data": {
            "text/plain": [
              "<Figure size 640x480 with 1 Axes>"
            ],
            "image/png": "[encoded data removed]"
          },
          "metadata": {}
        }
      ],
      "source": [
        "# Create the updated SimpleModel\n",
        "model = SimpleBrokenModel(MASTER_CONFIG)\n",
        "\n",
        "# Obtain batches for training\n",
        "xs, ys = get_batches(dataset, 'train', MASTER_CONFIG['batch_size'], MASTER_CONFIG['context_window'])\n",
        "\n",
        "# Calculate logits and loss using the model\n",
        "logits, loss = model(xs, ys)\n",
        "\n",
        "# Define the Adam optimizer for model parameters\n",
        "optimizer = torch.optim.Adam(model.parameters())\n",
        "\n",
        "# Train the model for 100 epochs\n",
        "train(model, optimizer)"
      ]
    },
    {
      "cell_type": "markdown",
      "metadata": {
        "id": "hQ8O7AZ_Umf0"
      },
      "source": [
        "After reducing the loss to 2.51, let’s explore how our language model with approximately **33,000 parameters** generates text during inferencing. We’ll create a ‘generate’ function, which we’ll later use when replicating LLaMA:"
      ]
    },
    {
      "cell_type": "code",
      "execution_count": 21,
      "metadata": {
        "colab": {
          "base_uri": "https://localhost:8080/"
        },
        "id": "NX7T7rMRUmf1",
        "outputId": "fc5f6885-9ebe-4dc7-8626-8430803d05e9"
      },
      "outputs": [
        {
          "output_type": "execute_result",
          "data": {
            "text/plain": [
              "['\\nAnd d berjolene alf tyo-umes w',\n",
              " '\\nARIOHan heest he om oury thais',\n",
              " '\\nThthered vieikiravendesiner.\\nV',\n",
              " \"\\n\\nRI way, thyes'syo  w;\\nA:\\nG w\\n\",\n",
              " '\\n\\nD he:\\ne mis I he p he d Yould']"
            ]
          },
          "metadata": {},
          "execution_count": 21
        }
      ],
      "source": [
        "# Generate function for text generation using the trained model\n",
        "def generate(model, config=MASTER_CONFIG, max_new_tokens=30):\n",
        "    idx = torch.zeros(5, 1).long()\n",
        "    for _ in range(max_new_tokens):\n",
        "        # Call the model\n",
        "        logits = model(idx[:, -config['context_window']:])\n",
        "        last_time_step_logits = logits[\n",
        "            :, -1, :\n",
        "        ]  # all the batches (1), last time step, all the logits\n",
        "        p = F.softmax(last_time_step_logits, dim=-1)  # softmax to get probabilities\n",
        "        idx_next = torch.multinomial(\n",
        "            p, num_samples=1\n",
        "        )  # sample from the distribution to get the next token\n",
        "        idx = torch.cat([idx, idx_next], dim=-1)  # append to the sequence\n",
        "    return [decode(x) for x in idx.tolist()]\n",
        "\n",
        "# Generate text using the trained model\n",
        "generate(model)"
      ]
    },
    {
      "cell_type": "markdown",
      "metadata": {
        "id": "AfeV4uOZUmf1"
      },
      "source": [
        "## Replicating LLaMA Architecture\n",
        "\n",
        "In the earlier part of the blog, we covered essential concepts, and now, we’ll integrate these concepts into our base model. LLaMA introduces three architectural modifications to the original Transformer:\n",
        "\n",
        " 1. RMSNorm for pre-normalization\n",
        "\n",
        " 2. Rotary embeddings\n",
        "\n",
        " 3. SwiGLU activation function\n",
        "\n",
        "We’ll incorporate each of these modifications one by one into our base model, iterating and building upon them."
      ]
    },
    {
      "cell_type": "markdown",
      "metadata": {
        "id": "IX63N6zKUmf1"
      },
      "source": [
        "### RMSNorm for pre-normalization:\n",
        "\n",
        "We are defining an RMSNorm function with the following functionalities:"
      ]
    },
    {
      "cell_type": "code",
      "execution_count": 22,
      "metadata": {
        "id": "Rr02UVULUmf1"
      },
      "outputs": [],
      "source": [
        "class RMSNorm(nn.Module):\n",
        "    def __init__(self, layer_shape, eps=1e-8, bias=False):\n",
        "        super(RMSNorm, self).__init__()\n",
        "\n",
        "        # Registering a learnable parameter 'scale' as a parameter of the module\n",
        "        self.register_parameter(\"scale\", nn.Parameter(torch.ones(layer_shape)))\n",
        "\n",
        "    def forward(self, x):\n",
        "        \"\"\"\n",
        "        Assumes shape is (batch, seq_len, d_model)\n",
        "        \"\"\"\n",
        "        # Calculating the Frobenius norm, RMS = 1/sqrt(N) * Frobenius norm\n",
        "        ff_rms = torch.linalg.norm(x, dim=(1,2)) * x[0].numel() ** -.5\n",
        "\n",
        "        # Normalizing the input tensor 'x' with respect to RMS\n",
        "        raw = x / ff_rms.unsqueeze(-1).unsqueeze(-1)\n",
        "\n",
        "        # Scaling the normalized tensor using the learnable parameter 'scale'\n",
        "        return self.scale[:x.shape[1], :].unsqueeze(0) * raw"
      ]
    },
    {
      "cell_type": "markdown",
      "metadata": {
        "id": "VDtlLZDUUmf1"
      },
      "source": [
        "we define the RMSNorm class. During initialization, it registers a scale parameter. In the forward pass, it calculates the **Frobenius norm** of the input tensor and then normalizes the tensor. Finally, the tensor is scaled by the registered scale parameter. This function is designed for use in LLaMA to replace the LayerNorm operation.\n",
        "\n",
        "Now it’s time to incorporate the first implementation concept of LLaMA, which is RMSNorm, into our simple NN model. Here’s the updated code:"
      ]
    },
    {
      "cell_type": "code",
      "execution_count": 23,
      "metadata": {
        "id": "9xjLO1OKUmf1"
      },
      "outputs": [],
      "source": [
        "# Define the SimpleModel_RMS with RMSNorm\n",
        "class SimpleModel_RMS(nn.Module):\n",
        "    def __init__(self, config):\n",
        "        super().__init__()\n",
        "        self.config = config\n",
        "\n",
        "        # Embedding layer to convert character indices to vectors\n",
        "        self.embedding = nn.Embedding(config['vocab_size'], config['d_model'])\n",
        "\n",
        "        # RMSNorm layer for pre-normalization\n",
        "        self.rms = RMSNorm((config['context_window'], config['d_model']))\n",
        "\n",
        "        # Linear layers for modeling relationships between features\n",
        "        self.linear = nn.Sequential(\n",
        "            nn.Linear(config['d_model'], config['d_model']),\n",
        "            nn.ReLU(),  # Currently using ReLU, will be replaced with SwiGLU as in LLaMA\n",
        "            nn.Linear(config['d_model'], config['vocab_size']),\n",
        "        )\n",
        "\n",
        "        # Print the total number of model parameters\n",
        "        print(\"Model parameters:\", sum([m.numel() for m in self.parameters()]))\n",
        "\n",
        "    def forward(self, idx, targets=None):\n",
        "        # Embedding layer converts character indices to vectors\n",
        "        x = self.embedding(idx)\n",
        "\n",
        "        # RMSNorm pre-normalization\n",
        "        x = self.rms(x)\n",
        "\n",
        "        # Linear layers for modeling relationships between features\n",
        "        logits = self.linear(x)\n",
        "\n",
        "        # If targets are provided, calculate and return the cross-entropy loss\n",
        "        if targets is not None:\n",
        "            # Reshape logits and targets for cross-entropy calculation\n",
        "            loss = F.cross_entropy(logits.view(-1, self.config['vocab_size']), targets.view(-1))\n",
        "            return logits, loss\n",
        "\n",
        "        # If targets are not provided, return the logits\n",
        "        else:\n",
        "            return logits"
      ]
    },
    {
      "cell_type": "markdown",
      "metadata": {
        "id": "PZ-Q3UNIUmf1"
      },
      "source": [
        "Let’s execute the modified NN model with RMSNorm and observe the updated number of parameters in the model, along with the loss:"
      ]
    },
    {
      "cell_type": "code",
      "execution_count": 24,
      "metadata": {
        "colab": {
          "base_uri": "https://localhost:8080/",
          "height": 486
        },
        "id": "PxDkzKEjUmf2",
        "outputId": "b1db1769-bf05-4f75-d74c-b2d4880e864a"
      },
      "outputs": [
        {
          "output_type": "stream",
          "name": "stdout",
          "text": [
            "Model parameters: 35265\n",
            "Validation loss:  2.5411355257034303\n"
          ]
        },
        {
          "output_type": "execute_result",
          "data": {
            "text/plain": [
              "<Axes: >"
            ]
          },
          "metadata": {},
          "execution_count": 24
        },
        {
          "output_type": "display_data",
          "data": {
            "text/plain": [
              "<Figure size 640x480 with 1 Axes>"
            ],
            "image/png": "[encoded data removed]"
          },
          "metadata": {}
        }
      ],
      "source": [
        "# Create an instance of SimpleModel_RMS\n",
        "model = SimpleModel_RMS(MASTER_CONFIG)\n",
        "\n",
        "# Obtain batches for training\n",
        "xs, ys = get_batches(dataset, 'train', MASTER_CONFIG['batch_size'], MASTER_CONFIG['context_window'])\n",
        "\n",
        "# Calculate logits and loss using the model\n",
        "logits, loss = model(xs, ys)\n",
        "\n",
        "# Define the Adam optimizer for model parameters\n",
        "optimizer = torch.optim.Adam(model.parameters())\n",
        "\n",
        "# Train the model\n",
        "train(model, optimizer)"
      ]
    },
    {
      "cell_type": "markdown",
      "metadata": {
        "id": "X5hrsZofUmf2"
      },
      "source": [
        "The validation loss experiences a small decrease, and the parameters of our updated LLM now total approximately 35,000."
      ]
    },
    {
      "cell_type": "markdown",
      "metadata": {
        "id": "_zbtp-tWUmf2"
      },
      "source": [
        "### Rotary Embeddings:\n",
        "\n",
        "Next, we will implement rotary positional embeddings. In RoPE, the authors suggest embedding the position of a token in a sequence by rotating the embedding, applying a different rotation at each position. Let’s create a function that mimics the actual paper implementation of RoPE:"
      ]
    },
    {
      "cell_type": "code",
      "execution_count": 25,
      "metadata": {
        "id": "0spPnBQWUmf2"
      },
      "outputs": [],
      "source": [
        "def get_rotary_matrix(context_window, embedding_dim):\n",
        "    # Initialize a tensor for the rotary matrix with zeros\n",
        "    R = torch.zeros((context_window, embedding_dim, embedding_dim), requires_grad=False)\n",
        "\n",
        "    # Loop through each position in the context window\n",
        "    for position in range(context_window):\n",
        "        # Loop through each dimension in the embedding\n",
        "        for i in range(embedding_dim // 2):\n",
        "            # Calculate the rotation angle (theta) based on the position and embedding dimension\n",
        "            theta = 10000. ** (-2. * (i - 1) / embedding_dim)\n",
        "            # Calculate the rotated matrix elements using sine and cosine functions\n",
        "            m_theta = position * theta\n",
        "            R[position, 2 * i, 2 * i] = np.cos(m_theta)\n",
        "            R[position, 2 * i, 2 * i + 1] = -np.sin(m_theta)\n",
        "            R[position, 2 * i + 1, 2 * i] = np.sin(m_theta)\n",
        "            R[position, 2 * i + 1, 2 * i + 1] = np.cos(m_theta)\n",
        "    return R"
      ]
    },
    {
      "cell_type": "markdown",
      "metadata": {
        "id": "tk4cU29DUmf2"
      },
      "source": [
        "we generate a rotary matrix based on the specified context window and embedding dimension, following the proposed RoPE implementation.\n",
        "\n",
        "As you may be familiar with the architecture of transformers, which involves attention heads, we similarly need to create attention heads when replicating LLaMA. To start, let’s first create a single **masked attention head** using the get_rotary_matrix function we previously developed for rotary embeddings. **Additionally, each line is commented for clarity**:"
      ]
    },
    {
      "cell_type": "code",
      "execution_count": 26,
      "metadata": {
        "id": "wvDDHOfjUmf2"
      },
      "outputs": [],
      "source": [
        "class RoPEMaskedAttentionHead(nn.Module):\n",
        "    def __init__(self, config):\n",
        "        super().__init__()\n",
        "        self.config = config\n",
        "        # Linear transformation for query\n",
        "        self.w_q = nn.Linear(config['d_model'], config['d_model'], bias=False)\n",
        "        # Linear transformation for key\n",
        "        self.w_k = nn.Linear(config['d_model'], config['d_model'], bias=False)\n",
        "        # Linear transformation for value\n",
        "        self.w_v = nn.Linear(config['d_model'], config['d_model'], bias=False)\n",
        "        # Obtain rotary matrix for positional embeddings\n",
        "        self.R = get_rotary_matrix(config['context_window'], config['d_model'])\n",
        "\n",
        "    def get_rotary_matrix(context_window, embedding_dim):\n",
        "        # Initialize a tensor for the rotary matrix with zeros\n",
        "        R = torch.zeros((context_window, embedding_dim, embedding_dim), requires_grad=False)\n",
        "\n",
        "        # Loop through each position in the context window\n",
        "        for position in range(context_window):\n",
        "            # Loop through each dimension in the embedding\n",
        "            for i in range(embedding_dim // 2):\n",
        "                # Calculate the rotation angle (theta) based on the position and embedding dimension\n",
        "                theta = 10000. ** (-2. * (i - 1) / embedding_dim)\n",
        "                # Calculate the rotated matrix elements using sine and cosine functions\n",
        "                m_theta = position * theta\n",
        "                R[position, 2 * i, 2 * i] = np.cos(m_theta)\n",
        "                R[position, 2 * i, 2 * i + 1] = -np.sin(m_theta)\n",
        "                R[position, 2 * i + 1, 2 * i] = np.sin(m_theta)\n",
        "                R[position, 2 * i + 1, 2 * i + 1] = np.cos(m_theta)\n",
        "        return R\n",
        "\n",
        "    def forward(self, x, return_attn_weights=False):\n",
        "        # x: input tensor of shape (batch, sequence length, dimension)\n",
        "\n",
        "        b, m, d = x.shape  # batch size, sequence length, dimension\n",
        "\n",
        "        # Linear transformations for Q, K, and V\n",
        "        q = self.w_q(x)\n",
        "        k = self.w_k(x)\n",
        "        v = self.w_v(x)\n",
        "\n",
        "        # Rotate Q and K using the RoPE matrix\n",
        "        q_rotated = (torch.bmm(q.transpose(0, 1), self.R[:m])).transpose(0, 1)\n",
        "        k_rotated = (torch.bmm(k.transpose(0, 1), self.R[:m])).transpose(0, 1)\n",
        "\n",
        "        # Perform scaled dot-product attention\n",
        "        activations = F.scaled_dot_product_attention(\n",
        "            q_rotated, k_rotated, v, dropout_p=0.1, is_causal=True\n",
        "        )\n",
        "\n",
        "        if return_attn_weights:\n",
        "            # Create a causal attention mask\n",
        "            attn_mask = torch.tril(torch.ones((m, m)), diagonal=0)\n",
        "            # Calculate attention weights and add causal mask\n",
        "            attn_weights = torch.bmm(q_rotated, k_rotated.transpose(1, 2)) / np.sqrt(d) + attn_mask\n",
        "            attn_weights = F.softmax(attn_weights, dim=-1)\n",
        "            return activations, attn_weights\n",
        "\n",
        "        return activations"
      ]
    },
    {
      "cell_type": "markdown",
      "metadata": {
        "id": "-S_1dYDcUmf2"
      },
      "source": [
        "Now that we have a single masked attention head that returns attention weights, the next step is to create a multi-Head attention mechanism."
      ]
    },
    {
      "cell_type": "code",
      "execution_count": 27,
      "metadata": {
        "id": "AuuqURTSUmf3"
      },
      "outputs": [],
      "source": [
        "class RoPEMaskedMultiheadAttention(nn.Module):\n",
        "    def __init__(self, config):\n",
        "        super().__init__()\n",
        "        self.config = config\n",
        "        # Create a list of RoPEMaskedAttentionHead instances as attention heads\n",
        "        self.heads = nn.ModuleList([\n",
        "            RoPEMaskedAttentionHead(config) for _ in range(config['n_heads'])\n",
        "        ])\n",
        "        self.linear = nn.Linear(config['n_heads'] * config['d_model'], config['d_model'])  # Linear layer after concatenating heads\n",
        "        self.dropout = nn.Dropout(.1)  # Dropout layer\n",
        "\n",
        "    def forward(self, x):\n",
        "        # x: input tensor of shape (batch, sequence length, dimension)\n",
        "\n",
        "        # Process each attention head and concatenate the results\n",
        "        heads = [h(x) for h in self.heads]\n",
        "        x = torch.cat(heads, dim=-1)\n",
        "\n",
        "        # Apply linear transformation to the concatenated output\n",
        "        x = self.linear(x)\n",
        "\n",
        "        # Apply dropout\n",
        "        x = self.dropout(x)\n",
        "        return x"
      ]
    },
    {
      "cell_type": "markdown",
      "metadata": {
        "id": "MLDGiT8YUmf3"
      },
      "source": [
        "The original paper used 32 heads for their smaller 7b LLM variation, but due to constraints, we’ll use 8 heads for our approach."
      ]
    },
    {
      "cell_type": "code",
      "execution_count": 28,
      "metadata": {
        "id": "3NxZiIVRUmf3"
      },
      "outputs": [],
      "source": [
        "# Update the master configuration with the number of attention heads\n",
        "MASTER_CONFIG.update({\n",
        "    'n_heads': 8,\n",
        "})"
      ]
    },
    {
      "cell_type": "markdown",
      "metadata": {
        "id": "5qtkXKRrUmf3"
      },
      "source": [
        "Now that we’ve implemented Rotational Embedding and Multi-head Attention, let’s re-write our RMSNorm neural network model with the updated code. We’ll test its performance, compute the loss, and check the number of parameters. We’ll refer to this updated model as **“RopeModel”**"
      ]
    },
    {
      "cell_type": "code",
      "execution_count": 29,
      "metadata": {
        "id": "UNVeJcrfUmf3"
      },
      "outputs": [],
      "source": [
        "class RopeModel(nn.Module):\n",
        "    def __init__(self, config):\n",
        "        super().__init__()\n",
        "        self.config = config\n",
        "\n",
        "        # Embedding layer for input tokens\n",
        "        self.embedding = nn.Embedding(config['vocab_size'], config['d_model'])\n",
        "\n",
        "        # RMSNorm layer for pre-normalization\n",
        "        self.rms = RMSNorm((config['context_window'], config['d_model']))\n",
        "\n",
        "        # RoPEMaskedMultiheadAttention layer\n",
        "        self.rope_attention = RoPEMaskedMultiheadAttention(config)\n",
        "\n",
        "        # Linear layer followed by ReLU activation\n",
        "        self.linear = nn.Sequential(\n",
        "            nn.Linear(config['d_model'], config['d_model']),\n",
        "            nn.ReLU(),\n",
        "        )\n",
        "\n",
        "        # Final linear layer for prediction\n",
        "        self.last_linear = nn.Linear(config['d_model'], config['vocab_size'])\n",
        "\n",
        "        print(\"model params:\", sum([m.numel() for m in self.parameters()]))\n",
        "\n",
        "    def forward(self, idx, targets=None):\n",
        "        # idx: input indices\n",
        "        x = self.embedding(idx)\n",
        "\n",
        "        # One block of attention\n",
        "        x = self.rms(x)  # RMS pre-normalization\n",
        "        x = x + self.rope_attention(x)\n",
        "\n",
        "        x = self.rms(x)  # RMS pre-normalization\n",
        "        x = x + self.linear(x)\n",
        "\n",
        "        logits = self.last_linear(x)\n",
        "\n",
        "        if targets is not None:\n",
        "            loss = F.cross_entropy(logits.view(-1, self.config['vocab_size']), targets.view(-1))\n",
        "            return logits, loss\n",
        "\n",
        "        else:\n",
        "            return logits"
      ]
    },
    {
      "cell_type": "markdown",
      "metadata": {
        "id": "ZnCjb6COUmf3"
      },
      "source": [
        "Let’s execute the modified NN model with RMSNorm, Rotational Embeddings and Masked Multi Head Attentions to observe the updated number of parameters in the model, along with the loss:"
      ]
    },
    {
      "cell_type": "code",
      "execution_count": 30,
      "metadata": {
        "colab": {
          "base_uri": "https://localhost:8080/",
          "height": 482
        },
        "id": "oHVqgr-gUmf4",
        "outputId": "de0fd943-05a3-484a-f7c9-858a1f6394a4"
      },
      "outputs": [
        {
          "output_type": "stream",
          "name": "stdout",
          "text": [
            "model params: 559681\n",
            "Validation loss:  2.1271771669387816\n"
          ]
        },
        {
          "output_type": "execute_result",
          "data": {
            "text/plain": [
              "<Axes: >"
            ]
          },
          "metadata": {},
          "execution_count": 30
        },
        {
          "output_type": "display_data",
          "data": {
            "text/plain": [
              "<Figure size 640x480 with 1 Axes>"
            ],
            "image/png": "[encoded data removed]"
          },
          "metadata": {}
        }
      ],
      "source": [
        "# Create an instance of RopeModel (RMSNorm, RoPE, Multi-Head)\n",
        "model = RopeModel(MASTER_CONFIG)\n",
        "\n",
        "# Obtain batches for training\n",
        "xs, ys = get_batches(dataset, 'train', MASTER_CONFIG['batch_size'], MASTER_CONFIG['context_window'])\n",
        "\n",
        "# Calculate logits and loss using the model\n",
        "logits, loss = model(xs, ys)\n",
        "\n",
        "# Define the Adam optimizer for model parameters\n",
        "optimizer = torch.optim.Adam(model.parameters())\n",
        "\n",
        "# Train the model\n",
        "train(model, optimizer)"
      ]
    },
    {
      "cell_type": "markdown",
      "metadata": {
        "id": "Z5bALDAlUmf4"
      },
      "source": [
        "The validation loss experiences a small decrease again, and the parameters of our updated LLM now total approximately 55,000.\n",
        "\n",
        "Let’s train the model for more epochs to see if the loss of our recreated LLaMA LLM continues to decrease or not."
      ]
    },
    {
      "cell_type": "markdown",
      "metadata": {
        "id": "BOc0j5ScUmf4"
      },
      "source": [
        "### SwiGLU activation function:\n",
        "\n",
        "As mentioned before, the creators of LLaMA use SwiGLU instead of ReLU, so we’ll be implementing SwiGLU equation in our code.\n",
        "\n",
        "![[https://arxiv.org/pdf/2002.05202v1.pdf](https://arxiv.org/pdf/2002.05202v1.pdf)](https://cdn-images-1.medium.com/max/27072/1*db6BeMw78FH_ZkVEGIyVPA.png)"
      ]
    },
    {
      "cell_type": "code",
      "execution_count": 31,
      "metadata": {
        "id": "LfNF1FfzUmf4"
      },
      "outputs": [],
      "source": [
        "class SwiGLU(nn.Module):\n",
        "    \"\"\"\n",
        "    Swish-Gated Linear Unit\n",
        "    https://arxiv.org/pdf/2002.05202v1.pdf\n",
        "    \"\"\"\n",
        "    def __init__(self, size):\n",
        "        super().__init__()\n",
        "        self.linear_gate = nn.Linear(size, size)\n",
        "        self.linear = nn.Linear(size, size)\n",
        "        self.beta = torch.randn(1, requires_grad=True)\n",
        "\n",
        "        self.beta = nn.Parameter(torch.ones(1))\n",
        "        self.register_parameter(\"beta\", self.beta)\n",
        "\n",
        "    def forward(self, x):\n",
        "        swish_gate = self.linear_gate(x) * torch.sigmoid(self.beta * self.linear_gate(x))\n",
        "        out = swish_gate * self.linear(x)\n",
        "        return out"
      ]
    },
    {
      "cell_type": "markdown",
      "metadata": {
        "id": "n-spgGTcUmf4"
      },
      "source": [
        "After implementing the SwiGLU equation in python, we need to integrate it into our modified LLaMA language model (**RopeModel**)."
      ]
    },
    {
      "cell_type": "code",
      "execution_count": 32,
      "metadata": {
        "id": "qEGtz1tOUmf4"
      },
      "outputs": [],
      "source": [
        "class RopeModel(nn.Module):\n",
        "    def __init__(self, config):\n",
        "        super().__init__()\n",
        "        self.config = config\n",
        "\n",
        "        # Embedding layer for input tokens\n",
        "        self.embedding = nn.Embedding(config['vocab_size'], config['d_model'])\n",
        "\n",
        "        # RMSNorm layer for pre-normalization\n",
        "        self.rms = RMSNorm((config['context_window'], config['d_model']))\n",
        "\n",
        "        # Multi-head attention layer with RoPE (Rotary Positional Embeddings)\n",
        "        self.rope_attention = RoPEMaskedMultiheadAttention(config)\n",
        "\n",
        "        # Linear layer followed by SwiGLU activation\n",
        "        self.linear = nn.Sequential(\n",
        "            nn.Linear(config['d_model'], config['d_model']),\n",
        "            SwiGLU(config['d_model']),  # Adding SwiGLU activation\n",
        "        )\n",
        "\n",
        "        # Output linear layer\n",
        "        self.last_linear = nn.Linear(config['d_model'], config['vocab_size'])\n",
        "\n",
        "        # Printing total model parameters\n",
        "        print(\"model params:\", sum([m.numel() for m in self.parameters()]))\n",
        "\n",
        "    def forward(self, idx, targets=None):\n",
        "        x = self.embedding(idx)\n",
        "\n",
        "        # One block of attention\n",
        "        x = self.rms(x)  # RMS pre-normalization\n",
        "        x = x + self.rope_attention(x)\n",
        "\n",
        "        x = self.rms(x)  # RMS pre-normalization\n",
        "        x = x + self.linear(x)  # Applying SwiGLU activation\n",
        "\n",
        "        logits = self.last_linear(x)\n",
        "\n",
        "        if targets is not None:\n",
        "            # Calculate cross-entropy loss if targets are provided\n",
        "            loss = F.cross_entropy(logits.view(-1, self.config['vocab_size']), targets.view(-1))\n",
        "            return logits, loss\n",
        "\n",
        "        else:\n",
        "            return logits"
      ]
    },
    {
      "cell_type": "markdown",
      "metadata": {
        "id": "0DY6EeDNUmf5"
      },
      "source": [
        "Let’s execute the modified NN model with RMSNorm, Rotational Embeddings, Masked Multi Head Attentions and SwiGLU to observe the updated number of parameters in the model, along with the loss:"
      ]
    },
    {
      "cell_type": "code",
      "execution_count": 33,
      "metadata": {
        "colab": {
          "base_uri": "https://localhost:8080/",
          "height": 482
        },
        "id": "xI0xxLXGUmf5",
        "outputId": "5d14158a-b7fd-4ffb-a03d-64f94a6025d8"
      },
      "outputs": [
        {
          "output_type": "stream",
          "name": "stdout",
          "text": [
            "model params: 592706\n",
            "Validation loss:  2.0624592423439028\n"
          ]
        },
        {
          "output_type": "execute_result",
          "data": {
            "text/plain": [
              "<Axes: >"
            ]
          },
          "metadata": {},
          "execution_count": 33
        },
        {
          "output_type": "display_data",
          "data": {
            "text/plain": [
              "<Figure size 640x480 with 1 Axes>"
            ],
            "image/png": "[encoded data removed]"
          },
          "metadata": {}
        }
      ],
      "source": [
        "# Create an instance of RopeModel (RMSNorm, RoPE, Multi-Head, SwiGLU)\n",
        "model = RopeModel(MASTER_CONFIG)\n",
        "\n",
        "# Obtain batches for training\n",
        "xs, ys = get_batches(dataset, 'train', MASTER_CONFIG['batch_size'], MASTER_CONFIG['context_window'])\n",
        "\n",
        "# Calculate logits and loss using the model\n",
        "logits, loss = model(xs, ys)\n",
        "\n",
        "# Define the Adam optimizer for model parameters\n",
        "optimizer = torch.optim.Adam(model.parameters())\n",
        "\n",
        "# Train the model\n",
        "train(model, optimizer)"
      ]
    },
    {
      "cell_type": "markdown",
      "metadata": {
        "id": "We3xt-cJUmf5"
      },
      "source": [
        "Once again the validation loss experiences a small decrease, and the parameters of our updated LLM now total approximately 60,000.\n",
        "\n",
        "So far, we have successfully implemented the key components of the paper, namely RMSNorm, RoPE, and SwiGLU. We observed that these implementations led to a minimal decrease in the loss.\n",
        "\n",
        "Now we will add layers to our LLaMA to examine its impact on the loss. The original paper used 32 layers for the 7b version, but we will use only 4 layers. Let’s adjust our model settings accordingly."
      ]
    },
    {
      "cell_type": "code",
      "execution_count": 34,
      "metadata": {
        "id": "AAk0Wan6Umf5"
      },
      "outputs": [],
      "source": [
        "# Update model configurations for the number of layers\n",
        "MASTER_CONFIG.update({\n",
        "    'n_layers': 4,  # Set the number of layers to 4\n",
        "})"
      ]
    },
    {
      "cell_type": "markdown",
      "metadata": {
        "id": "-UvdEE4FUmf5"
      },
      "source": [
        "Let’s start by creating a single layer to understand its impact."
      ]
    },
    {
      "cell_type": "code",
      "execution_count": 35,
      "metadata": {
        "id": "TRZZqkUcUmf5"
      },
      "outputs": [],
      "source": [
        "# add RMSNorm and residual conncection\n",
        "class LlamaBlock(nn.Module):\n",
        "    def __init__(self, config):\n",
        "        super().__init__()\n",
        "        self.config = config\n",
        "\n",
        "        self.rms = RMSNorm((config['context_window'], config['d_model']))\n",
        "\n",
        "        self.attention = RoPEMaskedMultiheadAttention(config)\n",
        "        self.feedforward = nn.Sequential(\n",
        "            nn.Linear(config['d_model'], config['d_model']),\n",
        "            SwiGLU(config['d_model']),\n",
        "        )\n",
        "\n",
        "    def forward(self, x):\n",
        "        x = self.rms(x) # rms pre-normalization\n",
        "        x = x + self.attention(x)\n",
        "\n",
        "        x = self.rms(x) # rms pre-normalization\n",
        "        x = x + self.feedforward(x)\n",
        "        return x"
      ]
    },
    {
      "cell_type": "markdown",
      "metadata": {
        "id": "DW6XomZHUmf5"
      },
      "source": [
        "Create an instance of the LlamaBlock class and applies it to a random tensor."
      ]
    },
    {
      "cell_type": "code",
      "execution_count": 36,
      "metadata": {
        "colab": {
          "base_uri": "https://localhost:8080/"
        },
        "id": "Yp4NUS-KUmf5",
        "outputId": "6c917fd2-9ba7-4739-e41a-985c31c000b8"
      },
      "outputs": [
        {
          "output_type": "execute_result",
          "data": {
            "text/plain": [
              "{'vocab_size': 65,\n",
              " 'batch_size': 32,\n",
              " 'context_window': 16,\n",
              " 'd_model': 128,\n",
              " 'epochs': 1000,\n",
              " 'log_interval': 10,\n",
              " 'n_heads': 8,\n",
              " 'n_layers': 4}"
            ]
          },
          "metadata": {},
          "execution_count": 36
        }
      ],
      "source": [
        "MASTER_CONFIG"
      ]
    },
    {
      "cell_type": "code",
      "execution_count": 37,
      "metadata": {
        "id": "icE1wyzdUmf5"
      },
      "outputs": [],
      "source": [
        "block = LlamaBlock(MASTER_CONFIG)\n",
        "block(torch.randn(MASTER_CONFIG['batch_size'], MASTER_CONFIG['context_window'], MASTER_CONFIG['d_model']));"
      ]
    },
    {
      "cell_type": "code",
      "execution_count": 38,
      "metadata": {
        "id": "z6zrnOynUmf6"
      },
      "outputs": [],
      "source": [
        "# Create an instance of the LlamaBlock class with the provided configuration\n",
        "block = LlamaBlock(MASTER_CONFIG)\n",
        "\n",
        "# Generate a random tensor with the specified batch size, context window, and model dimension\n",
        "random_input = torch.randn(MASTER_CONFIG['batch_size'], MASTER_CONFIG['context_window'], MASTER_CONFIG['d_model'])\n",
        "\n",
        "# Apply the LlamaBlock to the random input tensor\n",
        "output = block(random_input)"
      ]
    },
    {
      "cell_type": "markdown",
      "metadata": {
        "id": "bv5CifjvUmf6"
      },
      "source": [
        "Having successfully created a single layer, we can now use it to construct multiple layers. Additionally, we will rename our model class from **“ropemodel”** to **“Llama”** as we have replicated every component of the LLaMA language model."
      ]
    },
    {
      "cell_type": "code",
      "execution_count": 39,
      "metadata": {
        "id": "dEmT8I0LUmf6"
      },
      "outputs": [],
      "source": [
        "from collections import OrderedDict\n",
        "\n",
        "MASTER_CONFIG.update({\n",
        "    'n_layers': 4,\n",
        "})\n",
        "\n",
        "class Llama(nn.Module):\n",
        "    def __init__(self, config):\n",
        "        super().__init__()\n",
        "        self.config = config\n",
        "        # Embedding layer for token representations\n",
        "        self.embeddings = nn.Embedding(config['vocab_size'], config['d_model'])\n",
        "        # Sequential block of LlamaBlocks based on the specified number of layers\n",
        "        self.llama_blocks = nn.Sequential(\n",
        "            OrderedDict([(f\"llama_{i}\", LlamaBlock(config)) for i in range(config['n_layers'])])\n",
        "        )\n",
        "        # Feedforward network (FFN) for final output\n",
        "        self.ffn = nn.Sequential(\n",
        "            nn.Linear(config['d_model'], config['d_model']),\n",
        "            SwiGLU(config['d_model']),\n",
        "            nn.Linear(config['d_model'], config['vocab_size']),\n",
        "        )\n",
        "\n",
        "        # Print total number of parameters in the model\n",
        "        print(\"model params:\", sum([m.numel() for m in self.parameters()]))\n",
        "\n",
        "    def forward(self, idx, targets=None):\n",
        "        # Input token indices are passed through the embedding layer\n",
        "        x = self.embeddings(idx)\n",
        "        # Process the input through the LlamaBlocks\n",
        "        x = self.llama_blocks(x)\n",
        "        # Pass the processed input through the final FFN for output logits\n",
        "        logits = self.ffn(x)\n",
        "\n",
        "        # If targets are not provided, return only the logits\n",
        "        if targets is None:\n",
        "            return logits\n",
        "        # If targets are provided, compute and return the cross-entropy loss\n",
        "        else:\n",
        "            loss = F.cross_entropy(logits.view(-1, self.config['vocab_size']), targets.view(-1))\n",
        "            return logits, loss"
      ]
    },
    {
      "cell_type": "markdown",
      "metadata": {
        "id": "rAcVwtj0Umf6"
      },
      "source": [
        "Let’s execute the modified LLaMA model with RMSNorm, Rotational Embeddings, Masked Multi Head Attentions, SwiGLU and N_layers to observe the updated number of parameters in the model, along with the loss:"
      ]
    },
    {
      "cell_type": "code",
      "execution_count": 40,
      "metadata": {
        "colab": {
          "base_uri": "https://localhost:8080/",
          "height": 482
        },
        "id": "L4GXJYDBUmf6",
        "outputId": "54dc76f1-2be7-429f-fd0d-2d36daa54b04"
      },
      "outputs": [
        {
          "output_type": "stream",
          "name": "stdout",
          "text": [
            "model params: 2370246\n",
            "Validation loss:  2.013085436820984\n"
          ]
        },
        {
          "output_type": "execute_result",
          "data": {
            "text/plain": [
              "<Axes: >"
            ]
          },
          "metadata": {},
          "execution_count": 40
        },
        {
          "output_type": "display_data",
          "data": {
            "text/plain": [
              "<Figure size 640x480 with 1 Axes>"
            ],
            "image/png": "[encoded data removed]"
          },
          "metadata": {}
        }
      ],
      "source": [
        "# Create an instance of RopeModel (RMSNorm, RoPE, Multi-Head, SwiGLU, N_layers)\n",
        "llama = Llama(MASTER_CONFIG)\n",
        "\n",
        "# Obtain batches for training\n",
        "xs, ys = get_batches(dataset, 'train', MASTER_CONFIG['batch_size'], MASTER_CONFIG['context_window'])\n",
        "\n",
        "# Calculate logits and loss using the model\n",
        "logits, loss = llama(xs, ys)\n",
        "\n",
        "# Define the Adam optimizer for model parameters\n",
        "optimizer = torch.optim.Adam(llama.parameters())\n",
        "\n",
        "# Train the model\n",
        "train(llama, optimizer)"
      ]
    },
    {
      "cell_type": "markdown",
      "metadata": {
        "id": "9LlaK4OxUmf9"
      },
      "source": [
        "The loss here is 1.08, we can achieve even more lower loss without encountering significant overfitting. This suggests the model is performing well.\n",
        "\n",
        "Let’s train the model once more, this time incorporating a scheduler"
      ]
    },
    {
      "cell_type": "code",
      "execution_count": 43,
      "metadata": {
        "colab": {
          "base_uri": "https://localhost:8080/"
        },
        "id": "LMTz5N7qUmf9",
        "outputId": "39297daa-c7da-461c-c25d-9233ac7f07c6"
      },
      "outputs": [
        {
          "output_type": "stream",
          "name": "stdout",
          "text": [
            "\n",
            "To me shey it own\n",
            "what of this port; the bidt think that my be?err:\n",
            "And est then doth sirte ableding; our!\n",
            "if that whencere:\n",
            "All fir Of his but be the was look.\n",
            "\n",
            "COMINIUS:\n",
            "Whese a jick\n",
            "Arest distletfi thy knatrues puabl I sweedy thus proUr?\n",
            "\n",
            "TIS:\n",
            "The ourse.\n",
            "Rem.\n",
            "\n",
            "ROMEO:\n",
            "The, le's bye. And pan:\n",
            "This mays ShoRd:\n",
            "Thermache mader,\n",
            "Theld up and sping, happas that Iswort gries.\n",
            "And this ? come, may.\n",
            "\n",
            "DURICHARD CETIO:\n",
            "Kadning and yllowst yet villbleath,\n",
            "Os o't brothaloud.\n",
            "\n",
            "HOMBENES:\n",
            "Thousand our hign'd\n"
          ]
        }
      ],
      "source": [
        "# Generate text using the trained LLM (llama) with a maximum of 500 tokens\n",
        "generated_text = generate(llama, MASTER_CONFIG, 500)[0]\n",
        "print(generated_text)"
      ]
    },
    {
      "cell_type": "markdown",
      "metadata": {
        "id": "ZyMETCxJUmf9"
      },
      "source": [
        "\n",
        "Even though some generated words may not be perfect English, our LLM with just 2 million parameters has shown a basic understanding of the English language.\n",
        "\n",
        "Now, let’s see how well our model performs on the test set."
      ]
    },
    {
      "cell_type": "code",
      "execution_count": 44,
      "metadata": {
        "colab": {
          "base_uri": "https://localhost:8080/"
        },
        "id": "7Jr3YyhhUmf9",
        "outputId": "4df4db8b-16a1-4608-9c29-5fdf638c3d6c"
      },
      "outputs": [
        {
          "output_type": "stream",
          "name": "stdout",
          "text": [
            "tensor(1.9019, grad_fn=<NllLossBackward0>)\n"
          ]
        }
      ],
      "source": [
        "# Get batches from the test set\n",
        "xs, ys = get_batches(dataset, 'test', MASTER_CONFIG['batch_size'], MASTER_CONFIG['context_window'])\n",
        "\n",
        "# Pass the test data through the LLaMA model\n",
        "logits, loss = llama(xs, ys)\n",
        "\n",
        "# Print the loss on the test set\n",
        "print(loss)"
      ]
    },
    {
      "cell_type": "markdown",
      "metadata": {
        "id": "-BjAituVUmf-"
      },
      "source": [
        "The computed loss on the test set is approximately 1.236.\n",
        "\n",
        "A simple way to check for changes in the generated output is to run training for a large number of epochs and observe the results."
      ]
    },
    {
      "cell_type": "markdown",
      "metadata": {
        "id": "zxDyFAfcUmf-"
      },
      "source": [
        "## Experimenting with hyperparameters\n",
        "\n",
        "Hyperparameter tuning is a crucial step in training neural networks. In the original Llama paper, the authors utilized the Cosine Annealing learning schedule. However, in our experimentation, it didn’t perform well. Here’s an example of experimenting with hyperparameters using a different learning schedule:"
      ]
    },
    {
      "cell_type": "code",
      "execution_count": 45,
      "metadata": {
        "id": "C7nz9wQ0Umf-"
      },
      "outputs": [],
      "source": [
        "# Update configuration\n",
        "MASTER_CONFIG.update({\n",
        "    \"epochs\": 1000\n",
        "})\n",
        "\n",
        "# Create Llama model with Cosine Annealing learning schedule\n",
        "llama_with_cosine = Llama(MASTER_CONFIG)\n",
        "\n",
        "# Define Adam optimizer with specific hyperparameters\n",
        "llama_optimizer = torch.optim.Adam(\n",
        "    llama.parameters(),\n",
        "    betas=(9, .95),\n",
        "    weight_decay=.1,\n",
        "    eps=1e-9,\n",
        "    lr=1e-3\n",
        ")\n",
        "\n",
        "# Define Cosine Annealing learning rate scheduler\n",
        "scheduler = torch.optim.lr_scheduler.CosineAnnealingLR(llama_optimizer, 300, eta_min=1e-5)\n",
        "\n",
        "# Train the Llama model with the specified optimizer and scheduler\n",
        "train(llama_with_cosine, llama_optimizer, scheduler=scheduler)"
      ]
    },
    {
      "cell_type": "markdown",
      "metadata": {
        "id": "sZQuub_vUmf-"
      },
      "source": [
        "## Conclusion\n",
        "\n",
        "In this notebook, I'vw walked through a step-by-step process on how to implement the LLaMA approach to build your own small Language Model (LLM)."
      ]
    },
    {
      "cell_type": "code",
      "source": [],
      "metadata": {
        "id": "ZRIqmWSMfPB5"
      },
      "execution_count": null,
      "outputs": []
    }
  ],
  "metadata": {
    "kernelspec": {
      "display_name": "Python 3",
      "name": "python3"
    },
    "language_info": {
      "codemirror_mode": {
        "name": "ipython",
        "version": 3
      },
      "file_extension": ".py",
      "mimetype": "text/x-python",
      "name": "python",
      "nbconvert_exporter": "python",
      "pygments_lexer": "ipython3",
      "version": "3.10.10"
    },
    "colab": {
      "provenance": [],
      "gpuType": "T4"
    },
    "accelerator": "GPU"
  },
  "nbformat": 4,
  "nbformat_minor": 0
}